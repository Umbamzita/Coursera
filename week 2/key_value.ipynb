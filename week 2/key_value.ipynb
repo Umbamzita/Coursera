{
 "cells": [
  {
   "cell_type": "code",
   "execution_count": 119,
   "metadata": {},
   "outputs": [],
   "source": [
    "import json,os,tempfile,argparse\n"
   ]
  },
  {
   "cell_type": "code",
   "execution_count": 239,
   "metadata": {},
   "outputs": [],
   "source": [
    "storage_path = os.path.join(tempfile.gettempdir(), 'storage.data')\n",
    "value = argparse.ArgumentParser()\n",
    "value.add_argument('-k', '--key', help='key', action='store', dest='key')\n",
    "value.add_argument('-v', '--val', help='val', action='store', dest='val')\n",
    "storage = value.parse_args()"
   ]
  },
  {
   "cell_type": "code",
   "execution_count": 231,
   "metadata": {},
   "outputs": [],
   "source": [
    "def get_data():\n",
    "    if not os.path.isfile(storage_path): \n",
    "        return {}\n",
    "    else:\n",
    "        with open(storage_path,'r',encoding='utf-8') as f:\n",
    "            return  json.load(f)\n",
    "            \n",
    "            "
   ]
  },
  {
   "cell_type": "code",
   "execution_count": 232,
   "metadata": {},
   "outputs": [],
   "source": [
    "def main():\n",
    "    \n",
    "    \n",
    "   \n",
    "    if storage.key and storage.val:\n",
    "        write_data(storage.key,storage.val)\n",
    "    \n",
    "    \n",
    "    elif storage.key :\n",
    "        print(read_data(storage.key))\n",
    "    else:\n",
    "        \n",
    "        raise ValueError('Wrong')\n",
    "            "
   ]
  },
  {
   "cell_type": "code",
   "execution_count": 241,
   "metadata": {},
   "outputs": [],
   "source": [
    "def read_data(key):\n",
    "    data=get_data()\n",
    "    if key in data:\n",
    "        return data.get(key)\n",
    "    else:\n",
    "        return None\n",
    "\n",
    "  "
   ]
  },
  {
   "cell_type": "code",
   "execution_count": 236,
   "metadata": {},
   "outputs": [],
   "source": [
    "def write_data(key,val):\n",
    "    data=get_data()\n",
    "    \n",
    "    if key in data:\n",
    "        data[key].append(val)\n",
    "    else:\n",
    "        data[key]=[val]\n",
    "        \n",
    "    with open(storage_path,'w',encoding='utf-8') as f:\n",
    "       \n",
    "        json.dump(data, f, ensure_ascii=False, indent=2)\n",
    "        "
   ]
  },
  {
   "cell_type": "code",
   "execution_count": 240,
   "metadata": {},
   "outputs": [
    {
     "name": "stdout",
     "output_type": "stream",
     "text": [
      "['value']\n"
     ]
    }
   ],
   "source": [
    "main()"
   ]
  },
  {
   "cell_type": "code",
   "execution_count": null,
   "metadata": {},
   "outputs": [],
   "source": []
  },
  {
   "cell_type": "code",
   "execution_count": null,
   "metadata": {},
   "outputs": [],
   "source": []
  }
 ],
 "metadata": {
  "kernelspec": {
   "display_name": "Python 3",
   "language": "python",
   "name": "python3"
  },
  "language_info": {
   "codemirror_mode": {
    "name": "ipython",
    "version": 3
   },
   "file_extension": ".py",
   "mimetype": "text/x-python",
   "name": "python",
   "nbconvert_exporter": "python",
   "pygments_lexer": "ipython3",
   "version": "3.7.3"
  }
 },
 "nbformat": 4,
 "nbformat_minor": 2
}
