{
 "cells": [
  {
   "cell_type": "code",
   "execution_count": 15,
   "metadata": {},
   "outputs": [],
   "source": [
    "import telebot\n",
    "token= '1027392832:AAE2X1I_ROUOPwn_p-WMHOpfo56thE-cp4Y'"
   ]
  },
  {
   "cell_type": "code",
   "execution_count": 16,
   "metadata": {},
   "outputs": [],
   "source": [
    "from telebot import types"
   ]
  },
  {
   "cell_type": "code",
   "execution_count": null,
   "metadata": {},
   "outputs": [],
   "source": []
  },
  {
   "cell_type": "code",
   "execution_count": 31,
   "metadata": {},
   "outputs": [],
   "source": [
    "bot=telebot.TeleBot(token)\n",
    "\n",
    "currencies=['евро', 'доллар']\n",
    "def create_keyboard():\n",
    "    keyboard=types.InlineKeyboardMarkup(row_width=2)\n",
    "    buttons = [types.InlineKeyboardButton(text=c, callback_data=c) for c in currencies]\n",
    "    keyboard.add(*buttons)\n",
    "    return keyboard\n",
    "\n",
    "@bot.callback_query_handler(func=lambda x: True)     \n",
    "def callback_handler(callback_query):\n",
    "    message = callback_query.message\n",
    "    text = callback_query.data\n",
    "    currency, value=check_currency_value(text)\n",
    "    if currency:\n",
    "        bot.answer_callback_query(callback_query.id, text=f'Курс {currency} равен {value}')\n",
    "        #bot.send_message(chat_id=message.chat.id, text=f'Курс {currency} равен {value}')\n",
    "    else:\n",
    "        bot.send_message(chat_id=message.chat.id, text='Я не знаю такую валюту')\n",
    "\n",
    "def check_currency(message):\n",
    "    for c in currencies:\n",
    "        if c in message.text.lower():\n",
    "            return True\n",
    "    return False\n",
    "\n",
    "\n",
    "def check_currency_value(text):\n",
    "    currency_values={'евро' : 70, 'доллар' : 60}\n",
    "    for currency, value in currency_values.items():\n",
    "        if currency in text.lower():\n",
    "            return currency, value\n",
    "    return None, None\n",
    "\n",
    "@bot.message_handler(commands=['rate'])\n",
    "@bot.message_handler(func=check_currency)\n",
    "def handle_currency(message):\n",
    "    #print(message.text)\n",
    "    currency, value=check_currency_value(message.text)\n",
    "    keyboard = create_keyboard()\n",
    "    if currency:\n",
    "        bot.send_message(chat_id=message.chat.id, text=f'Курс {currency} равен {value}', reply_markup=keyboard)\n",
    "        \n",
    "    else:\n",
    "        bot.send_message(chat_id=message.chat.id, text='Я не знаю такую валюту', reply_markup=keyboard)\n",
    "\n",
    "@bot.message_handler()\n",
    "def handle_message(message):\n",
    "    #print(message.text)\n",
    "    bot.send_message(chat_id=message.chat.id, text='Узнай курс валют.')\n",
    "    \n",
    "bot.polling()"
   ]
  },
  {
   "cell_type": "code",
   "execution_count": 13,
   "metadata": {},
   "outputs": [
    {
     "name": "stdout",
     "output_type": "stream",
     "text": [
      "{'longitude': 30.91429, 'latitude': 52.403005}\n"
     ]
    }
   ],
   "source": [
    "bot=telebot.TeleBot(token)\n",
    "\n",
    "def closest_bank(location):\n",
    "    lon=location.longitude\n",
    "    lat=location.latitude\n",
    "    bank_adress='Новополесская ул. 2'\n",
    "    bank_lat, bank_lon= 52.440422, 30.999878\n",
    "    return bank_adress, bank_lat, bank_lon\n",
    "\n",
    "\n",
    "@bot.message_handler(content_types=['location'])\n",
    "def handle_location(message):\n",
    "    print(message.location)\n",
    "    url_photo='https://lh5.googleusercontent.com/p/AF1QipOZNak1r77GnPh6RPPbfFH05aRRqvQOIsVwMQww=w408-h306-k-no'\n",
    "    bank_adress, bank_lat, bank_lon = closest_bank(message.location)\n",
    "    bot.send_photo(message.chat.id, photo=url_photo, caption=f'Ближайший банк {bank_adress}')\n",
    "    bot.send_location(message.chat.id, bank_lat, bank_lon)\n",
    "    \n",
    "@bot.message_handler()\n",
    "def handle_message(message):\n",
    "    #print(message.text)\n",
    "    bot.send_message(chat_id=message.chat.id, text='Привет')\n",
    "    \n",
    "bot.polling()"
   ]
  },
  {
   "cell_type": "code",
   "execution_count": 6,
   "metadata": {},
   "outputs": [],
   "source": []
  },
  {
   "cell_type": "code",
   "execution_count": 7,
   "metadata": {},
   "outputs": [],
   "source": []
  },
  {
   "cell_type": "code",
   "execution_count": null,
   "metadata": {},
   "outputs": [],
   "source": []
  },
  {
   "cell_type": "code",
   "execution_count": null,
   "metadata": {},
   "outputs": [],
   "source": []
  },
  {
   "cell_type": "code",
   "execution_count": null,
   "metadata": {},
   "outputs": [],
   "source": []
  },
  {
   "cell_type": "code",
   "execution_count": null,
   "metadata": {},
   "outputs": [],
   "source": []
  }
 ],
 "metadata": {
  "kernelspec": {
   "display_name": "Python 3",
   "language": "python",
   "name": "python3"
  },
  "language_info": {
   "codemirror_mode": {
    "name": "ipython",
    "version": 3
   },
   "file_extension": ".py",
   "mimetype": "text/x-python",
   "name": "python",
   "nbconvert_exporter": "python",
   "pygments_lexer": "ipython3",
   "version": "3.7.3"
  }
 },
 "nbformat": 4,
 "nbformat_minor": 2
}
