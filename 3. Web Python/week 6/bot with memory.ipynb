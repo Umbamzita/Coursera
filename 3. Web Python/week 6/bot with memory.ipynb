{
 "cells": [
  {
   "cell_type": "code",
   "execution_count": 1,
   "metadata": {},
   "outputs": [],
   "source": [
    "import telebot\n",
    "token= 'enter your token'\n",
    "START, TITLE, PRICE, CONFIRMATION = range(4)"
   ]
  },
  {
   "cell_type": "code",
   "execution_count": 27,
   "metadata": {},
   "outputs": [],
   "source": [
    "from collections import defaultdict"
   ]
  },
  {
   "cell_type": "code",
   "execution_count": 28,
   "metadata": {},
   "outputs": [],
   "source": [
    "USER_STATE=defaultdict (lambda: START)\n",
    "def get_state(message):\n",
    "    return USER_STATE[message.chat.id]\n",
    "\n",
    "def update_state(message, state):\n",
    "    USER_STATE[message.chat.id] = state"
   ]
  },
  {
   "cell_type": "code",
   "execution_count": null,
   "metadata": {},
   "outputs": [],
   "source": []
  },
  {
   "cell_type": "code",
   "execution_count": 30,
   "metadata": {},
   "outputs": [],
   "source": [
    "PRODUCTS = defaultdict(lambda : {})\n",
    "def update_product(user_id, key, value):\n",
    "    PRODUCTS[user_id][key]=value\n",
    "\n",
    "def get_product(user_id):\n",
    "    return PRODUCTS[user_id]"
   ]
  },
  {
   "cell_type": "code",
   "execution_count": 31,
   "metadata": {},
   "outputs": [],
   "source": [
    "bot= telebot.TeleBot(token)\n",
    "\n",
    "@bot.message_handler(func=lambda message: get_state(message) == START)\n",
    "def handle_message(message):\n",
    "    bot.send_message(chat_id=message.chat.id, text='Напиши название товара.')\n",
    "    update_state(message, TITLE)\n",
    "    \n",
    "@bot.message_handler(func=lambda message: get_state(message) == TITLE)\n",
    "def handle_title(message):\n",
    "    update_product(message.chat.id, 'title', message.text)\n",
    "    bot.send_message(chat_id=message.chat.id, text='Напиши цену')\n",
    "    update_state(message, PRICE)\n",
    "    \n",
    "\n",
    "@bot.message_handler(func=lambda message: get_state(message) == PRICE)\n",
    "def handle_price(message):\n",
    "    update_product(message.chat.id, 'price', message.text)\n",
    "    product = get_product(message.chat.id)\n",
    "    bot.send_message(chat_id=message.chat.id, text=f'Опубликовать объявление? {product}')\n",
    "    update_state(message, CONFIRMATION)\n",
    "    \n",
    "@bot.message_handler(func=lambda message: get_state(message) == CONFIRMATION)\n",
    "def handle_confirmation(message):\n",
    "    if 'да' in message.text.lower():\n",
    "        bot.send_message(chat_id=message.chat.id, text='Объявление опубликовано')\n",
    "    update_state(message, START)\n",
    "    \n",
    "bot.polling()"
   ]
  },
  {
   "cell_type": "code",
   "execution_count": null,
   "metadata": {},
   "outputs": [],
   "source": []
  },
  {
   "cell_type": "code",
   "execution_count": null,
   "metadata": {},
   "outputs": [],
   "source": []
  }
 ],
 "metadata": {
  "kernelspec": {
   "display_name": "Python 3",
   "language": "python",
   "name": "python3"
  },
  "language_info": {
   "codemirror_mode": {
    "name": "ipython",
    "version": 3
   },
   "file_extension": ".py",
   "mimetype": "text/x-python",
   "name": "python",
   "nbconvert_exporter": "python",
   "pygments_lexer": "ipython3",
   "version": "3.7.3"
  }
 },
 "nbformat": 4,
 "nbformat_minor": 2
}
