{
 "cells": [
  {
   "cell_type": "code",
   "execution_count": 11,
   "metadata": {},
   "outputs": [],
   "source": [
    "import json, requests,base64"
   ]
  },
  {
   "cell_type": "code",
   "execution_count": 12,
   "metadata": {},
   "outputs": [],
   "source": [
    "url='http://127.0.0.1:8000/api/v1/goods/'\n"
   ]
  },
  {
   "cell_type": "code",
   "execution_count": 13,
   "metadata": {},
   "outputs": [],
   "source": [
    "data = {\n",
    "            'title': 'Сыр \"Российский\"',\n",
    "            'description': 'Очень вкусный сыр, да еще и российский.',\n",
    "            'price': 100\n",
    "        }"
   ]
  },
  {
   "cell_type": "code",
   "execution_count": 14,
   "metadata": {},
   "outputs": [
    {
     "name": "stdout",
     "output_type": "stream",
     "text": [
      "<Response [201]>\n",
      "{\"WELCOME\": \"Happy log in\"}\n"
     ]
    }
   ],
   "source": [
    "#user is staff\n",
    "auth=base64.b64encode('hello:world'.encode(\"utf-8\"))\n",
    "headers= {'Authorization': 'Basic aGVsbG86d29ybGQ='}\n",
    "r=requests.post(url, json=data, headers=headers)\n",
    "print(r)\n",
    "print(r.text)"
   ]
  },
  {
   "cell_type": "code",
   "execution_count": 15,
   "metadata": {},
   "outputs": [
    {
     "name": "stdout",
     "output_type": "stream",
     "text": [
      "<Response [401]>\n",
      "{\"error\": \"wrong password\"}\n"
     ]
    }
   ],
   "source": [
    "#wrong pass\\login\n",
    "auth2=base64.b64encode('lores:lores1'.encode(\"utf-8\"))\n",
    "auth2\n",
    "headers2= {'Authorization': 'Basic bG9yZXM6bG9yZXMx'}\n",
    "r2=requests.post(url, json=data, headers=headers2)\n",
    "print(r2)\n",
    "print(r2.text)"
   ]
  },
  {
   "cell_type": "code",
   "execution_count": 16,
   "metadata": {},
   "outputs": [
    {
     "name": "stdout",
     "output_type": "stream",
     "text": [
      "<Response [403]>\n",
      "{\"error\": \"not access\"}\n"
     ]
    }
   ],
   "source": [
    "#not access\n",
    "auth3=base64.b64encode('lores:lores'.encode(\"utf-8\"))\n",
    "auth3\n",
    "headers3= {'Authorization': 'Basic bG9yZXM6bG9yZXM='}\n",
    "r3=requests.post(url, json=data, headers=headers3)\n",
    "print(r3)\n",
    "print(r3.text)"
   ]
  },
  {
   "cell_type": "code",
   "execution_count": 17,
   "metadata": {},
   "outputs": [],
   "source": [
    "# headers= {'Authorization': 'Basic aGVsbG86d29ybGQ='}\n",
    "# headers2= {'Authorization': 'Basic bG9yZXM6bG9yZXMx'}\n",
    "# headers3= {'Authorization': 'Basic bG9yZXM6bG9yZXM='}"
   ]
  },
  {
   "cell_type": "code",
   "execution_count": 18,
   "metadata": {},
   "outputs": [
    {
     "name": "stdout",
     "output_type": "stream",
     "text": [
      "b'aGVsbG86d29ybGQ='\n",
      "b'bG9yZXM6bG9yZXMx'\n",
      "b'bG9yZXM6bG9yZXM='\n"
     ]
    }
   ],
   "source": [
    "print(auth)\n",
    "print(auth2)\n",
    "print(auth3)"
   ]
  },
  {
   "cell_type": "code",
   "execution_count": null,
   "metadata": {},
   "outputs": [],
   "source": []
  },
  {
   "cell_type": "code",
   "execution_count": null,
   "metadata": {},
   "outputs": [],
   "source": []
  },
  {
   "cell_type": "code",
   "execution_count": null,
   "metadata": {},
   "outputs": [],
   "source": []
  },
  {
   "cell_type": "code",
   "execution_count": null,
   "metadata": {},
   "outputs": [],
   "source": []
  }
 ],
 "metadata": {
  "kernelspec": {
   "display_name": "Python 3",
   "language": "python",
   "name": "python3"
  },
  "language_info": {
   "codemirror_mode": {
    "name": "ipython",
    "version": 3
   },
   "file_extension": ".py",
   "mimetype": "text/x-python",
   "name": "python",
   "nbconvert_exporter": "python",
   "pygments_lexer": "ipython3",
   "version": "3.7.3"
  }
 },
 "nbformat": 4,
 "nbformat_minor": 2
}
