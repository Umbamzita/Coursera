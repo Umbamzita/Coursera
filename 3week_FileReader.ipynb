{
 "cells": [
  {
   "cell_type": "code",
   "execution_count": 4,
   "metadata": {},
   "outputs": [
    {
     "data": {
      "text/plain": [
       "'Первое задание у нас для разогрева. Ваша задача написать Python-модуль solution.py, \\nвнутри которого определен класс FileReader.\\n\\nИнициализатор этого класса принимает аргумент - путь до файла на диске.\\n\\nУ класса должен быть метод read, возвращающий содержимое файла в виде строки.\\n\\nЕще один момент - внутри метода read вы должны обрабатывать исключение IOError,\\nвозникающее, когда файла, с которым был инициализирован класс, на самом деле нет на жестком диске.\\nВ случае возникновения такой ошибки метод read должен возвращать пустую строку '"
      ]
     },
     "execution_count": 4,
     "metadata": {},
     "output_type": "execute_result"
    }
   ],
   "source": [
    "\"\"\"Первое задание у нас для разогрева. Ваша задача написать Python-модуль solution.py, \n",
    "внутри которого определен класс FileReader.\n",
    "\n",
    "Инициализатор этого класса принимает аргумент - путь до файла на диске.\n",
    "\n",
    "У класса должен быть метод read, возвращающий содержимое файла в виде строки.\n",
    "\n",
    "Еще один момент - внутри метода read вы должны обрабатывать исключение IOError,\n",
    "возникающее, когда файла, с которым был инициализирован класс, на самом деле нет на жестком диске.\n",
    "В случае возникновения такой ошибки метод read должен возвращать пустую строку \"\"\""
   ]
  },
  {
   "cell_type": "code",
   "execution_count": null,
   "metadata": {},
   "outputs": [],
   "source": []
  },
  {
   "cell_type": "code",
   "execution_count": 1,
   "metadata": {},
   "outputs": [],
   "source": [
    "import sys\n",
    "\n",
    "class FileReader:\n",
    "    def __init__(self,way):\n",
    "        self.way=way\n",
    "        \n",
    "    \n",
    "    def read(self):\n",
    "        try:\n",
    "            f=open(self.way)\n",
    "            return f.read()\n",
    "        except IOError:\n",
    "            return ''"
   ]
  },
  {
   "cell_type": "code",
   "execution_count": null,
   "metadata": {},
   "outputs": [],
   "source": []
  }
 ],
 "metadata": {
  "kernelspec": {
   "display_name": "Python 3",
   "language": "python",
   "name": "python3"
  },
  "language_info": {
   "codemirror_mode": {
    "name": "ipython",
    "version": 3
   },
   "file_extension": ".py",
   "mimetype": "text/x-python",
   "name": "python",
   "nbconvert_exporter": "python",
   "pygments_lexer": "ipython3",
   "version": "3.7.3"
  }
 },
 "nbformat": 4,
 "nbformat_minor": 2
}
