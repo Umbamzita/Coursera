{
 "cells": [
  {
   "cell_type": "code",
   "execution_count": null,
   "metadata": {},
   "outputs": [],
   "source": [
    "import asyncio\n",
    "\n",
    "keeping={}\n",
    "\n",
    "class ClientServerProtocol(asyncio.Protocol):\n",
    "    \n",
    "    def connection_made(self, transport):\n",
    "        self.transport = transport\n",
    "\n",
    "    def data_received(self, data):\n",
    "        self.transport.write(self.process_data(data.decode('utf-8').strip('\\r\\n')).encode('utf-8'))\n",
    "        \n",
    "       \n",
    "    def process_data(self, cmd):\n",
    "        data = cmd.split(' ')\n",
    "        if data[0] == \"get\":\n",
    "             return self.data_get(data[1])\n",
    "        elif data[0] == \"put\":\n",
    "            return self.data_put(data[1], data[2], data[3])\n",
    "        else:\n",
    "            return 'error\\nwrong command\\n\\n'\n",
    "        \n",
    "        \n",
    "    def data_put(self,key, value, date):\n",
    "        \n",
    "        if not key in keeping:\n",
    "            keeping[key] = []\n",
    "            \n",
    "        if not (date, value) in keeping[key]:\n",
    "            keeping[key].append((date, value))\n",
    "            keeping[key].sort(key=lambda x: x[0])\n",
    "            \n",
    "        return 'ok\\n\\n'\n",
    "        \n",
    "\n",
    "    def data_get(self, key):\n",
    "        \n",
    "        d='ok\\n'\n",
    "        \n",
    "        if key == '*':\n",
    "            for k, v in keeping.items():\n",
    "                for x in v:\n",
    "                    d=f'{d}{k} {x[1]} {x[0]}\\n'\n",
    "        else:\n",
    "            if key in keeping:\n",
    "                for x in keeping[key]:\n",
    "                    d=f'{d}{key} {x[1]} {x[0]}\\n'\n",
    "        \n",
    "        return d + '\\n'\n",
    "        "
   ]
  },
  {
   "cell_type": "code",
   "execution_count": null,
   "metadata": {},
   "outputs": [],
   "source": [
    "def run_server(host='127.0.0.1', port=12000):\n",
    "    loop = asyncio.get_event_loop()\n",
    "    coro = loop.create_server(ClientServerProtocol, host, port)\n",
    "    server = loop.run_until_complete(coro)\n",
    "\n",
    "    try:\n",
    "        loop.run_forever()\n",
    "    except KeyboardInterrupt:\n",
    "        pass\n",
    "\n",
    "    server.close()\n",
    "    loop.run_until_complete(server.wait_closed())\n",
    "    loop.close()"
   ]
  },
  {
   "cell_type": "code",
   "execution_count": null,
   "metadata": {},
   "outputs": [],
   "source": []
  },
  {
   "cell_type": "code",
   "execution_count": null,
   "metadata": {},
   "outputs": [],
   "source": []
  },
  {
   "cell_type": "code",
   "execution_count": null,
   "metadata": {},
   "outputs": [],
   "source": []
  },
  {
   "cell_type": "code",
   "execution_count": null,
   "metadata": {},
   "outputs": [],
   "source": []
  },
  {
   "cell_type": "code",
   "execution_count": null,
   "metadata": {},
   "outputs": [],
   "source": []
  }
 ],
 "metadata": {
  "kernelspec": {
   "display_name": "Python 3",
   "language": "python",
   "name": "python3"
  },
  "language_info": {
   "codemirror_mode": {
    "name": "ipython",
    "version": 3
   },
   "file_extension": ".py",
   "mimetype": "text/x-python",
   "name": "python",
   "nbconvert_exporter": "python",
   "pygments_lexer": "ipython3",
   "version": "3.7.3"
  }
 },
 "nbformat": 4,
 "nbformat_minor": 2
}
