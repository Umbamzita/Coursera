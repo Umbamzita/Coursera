{
 "cells": [
  {
   "cell_type": "code",
   "execution_count": 4,
   "metadata": {},
   "outputs": [
    {
     "name": "stdout",
     "output_type": "stream",
     "text": [
      "Похоже, что все верно! Попробуйте отправить решение на проверку.\n"
     ]
    }
   ],
   "source": [
    "import sys\n",
    "from client import Client, ClientSocketError, ClientProtocolError\n",
    "\n",
    "\n",
    "def run(host, port):\n",
    "\n",
    "    client1 = Client(host, port, timeout=5)\n",
    "    client2 = Client(host, port, timeout=5)\n",
    "\n",
    "    try:\n",
    "        client1.connection.sendall(b\"malformed command test\\n\")\n",
    "        client1._read()\n",
    "        client2.connection.sendall(b\"malformed command test\\n\")\n",
    "        client2._read()\n",
    "    except ClientSocketError as err:\n",
    "        print(f\"Ошибка общения с сервером: {err.__class__}: {err}\")\n",
    "        sys.exit(1)\n",
    "    except ClientProtocolError:\n",
    "        pass\n",
    "    else:\n",
    "        print(\"Неверная команда, отправленная серверу, должна возвращать ошибку протокола\")\n",
    "        sys.exit(1)\n",
    "\n",
    "    try:\n",
    "        client1.put(\"k1\", 0.25, timestamp=1)\n",
    "        client2.put(\"k1\", 2.156, timestamp=2)\n",
    "        client1.put(\"k1\", 0.35, timestamp=3)\n",
    "        client2.put(\"k2\", 30, timestamp=4)\n",
    "        client1.put(\"k2\", 40, timestamp=5)\n",
    "        client1.put(\"k2\", 40, timestamp=5)\n",
    "    except Exception as err:\n",
    "        print(f\"Ошибка вызова client.put(...) {err.__class__}: {err}\")\n",
    "        sys.exit(1)\n",
    "\n",
    "    expected_metrics = {\n",
    "        \"k1\": [(1, 0.25), (2, 2.156), (3, 0.35)],\n",
    "        \"k2\": [(4, 30.0), (5, 40.0)],\n",
    "    }\n",
    "\n",
    "    try:\n",
    "        metrics = client1.get(\"*\")\n",
    "        if metrics != expected_metrics:\n",
    "            print(f\"client.get('*') вернул неверный результат. Ожидается: {expected_metrics}. Получено: {metrics}\")\n",
    "            sys.exit(1)\n",
    "    except Exception as err:\n",
    "        print(f\"Ошибка вызова client.get('*') {err.__class__}: {err}\")\n",
    "        sys.exit(1)\n",
    "\n",
    "    expected_metrics = {\"k2\": [(4, 30.0), (5, 40.0)]}\n",
    "\n",
    "    try:\n",
    "        metrics = client2.get(\"k2\")\n",
    "        if metrics != expected_metrics:\n",
    "            print(f\"client.get('k2') вернул неверный результат. Ожидается: {expected_metrics}. Получено: {metrics}\")\n",
    "            sys.exit(1)\n",
    "    except Exception as err:\n",
    "        print(f\"Ошибка вызова client.get('k2') {err.__class__}: {err}\")\n",
    "        sys.exit(1)\n",
    "\n",
    "    try:\n",
    "        result = client1.get(\"k3\")\n",
    "        if result != {}:\n",
    "            print(f\"Ошибка вызова метода get с ключом, который еще не был добавлен. Ожидается: пустой словарь. Получено: {result}\")\n",
    "            sys.exit(1)\n",
    "    except Exception as err:\n",
    "        print(f\"Ошибка вызова метода get с ключом, который еще не был добавлен: {err.__class__} {err}\")\n",
    "        sys.exit(1)\n",
    "\n",
    "    print(\"Похоже, что все верно! Попробуйте отправить решение на проверку.\")\n",
    "\n",
    "\n",
    "if __name__ == \"__main__\":\n",
    "    run(\"127.0.0.1\", 12000)"
   ]
  },
  {
   "cell_type": "code",
   "execution_count": null,
   "metadata": {},
   "outputs": [],
   "source": []
  },
  {
   "cell_type": "code",
   "execution_count": null,
   "metadata": {},
   "outputs": [],
   "source": []
  }
 ],
 "metadata": {
  "kernelspec": {
   "display_name": "Python 3",
   "language": "python",
   "name": "python3"
  },
  "language_info": {
   "codemirror_mode": {
    "name": "ipython",
    "version": 3
   },
   "file_extension": ".py",
   "mimetype": "text/x-python",
   "name": "python",
   "nbconvert_exporter": "python",
   "pygments_lexer": "ipython3",
   "version": "3.7.3"
  }
 },
 "nbformat": 4,
 "nbformat_minor": 2
}
