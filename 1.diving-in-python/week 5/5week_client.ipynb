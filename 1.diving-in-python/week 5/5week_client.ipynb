{
 "cells": [
  {
   "cell_type": "code",
   "execution_count": 4,
   "metadata": {},
   "outputs": [],
   "source": [
    "import time\n",
    "import socket\n",
    "from operator import itemgetter"
   ]
  },
  {
   "cell_type": "code",
   "execution_count": 3,
   "metadata": {},
   "outputs": [],
   "source": [
    "class ClientError(Exception):\n",
    "    pass"
   ]
  },
  {
   "cell_type": "code",
   "execution_count": null,
   "metadata": {},
   "outputs": [],
   "source": []
  },
  {
   "cell_type": "code",
   "execution_count": 34,
   "metadata": {},
   "outputs": [],
   "source": [
    "class Client:\n",
    "    \n",
    "    def __init__(self,host,port,timeout=None):\n",
    "        self.host=host\n",
    "        self.port=port\n",
    "        self.timeout=timeout\n",
    "        \n",
    "        \n",
    "        \n",
    "    def sending(self, cmd_str):\n",
    "        with socket.create_connection((self.addr, self.port), self.timeout) as sock:\n",
    "            sock.sendall(cmd_str.encode(\"utf8\"))\n",
    "            data = sock.recv(1024)\n",
    "            return data.decode('utf-8')\n",
    "    \n",
    "    def put(self, metric_name, metric_value, timestamp=None): \n",
    "        \n",
    "        timestamp=timestamp or int(time.time())\n",
    "        \n",
    "        message = f'put {metric_name} {metric_value} {timestamp}\\n'\n",
    "        \n",
    "        try:\n",
    "            recv_data= self.sending(message)\n",
    "            \n",
    "                       \n",
    "            if recv_data[0:3] != 'ok\\n':\n",
    "                raise ClientError\n",
    "            \n",
    "        except:\n",
    "            raise ClientError\n",
    "        \n",
    "        \n",
    "    def get(self,metric_name):\n",
    "        \n",
    "        k={}\n",
    "        message = f'get {metric_name}\\n'\n",
    "        recv_data=self.sending(message)\n",
    "        if recv_data == \"ok\\n\\n\":\n",
    "                return {}\n",
    "               \n",
    "        else:\n",
    "            for x in recv_data.rstrip().split('\\n')[1:]:\n",
    "                j=x.split(' ')\n",
    "                key=j[0]\n",
    "                k.setdefault(key,[])\n",
    "                k[key].append((int(j[2]),float(j[1])))\n",
    "         \n",
    "            \n",
    "            for val in k.values():\n",
    "                val.sort(key=itemgetter(0))\n",
    "                \n",
    "    \n",
    "        return k if metric_name == '*' else {metric_name : k[metric_name]}\n",
    "            \n",
    "          \n",
    "            \n",
    "          \n",
    "    \n",
    "    \n",
    "    \n",
    "    \n",
    "    "
   ]
  },
  {
   "cell_type": "code",
   "execution_count": null,
   "metadata": {},
   "outputs": [],
   "source": []
  }
 ],
 "metadata": {
  "kernelspec": {
   "display_name": "Python 3",
   "language": "python",
   "name": "python3"
  },
  "language_info": {
   "codemirror_mode": {
    "name": "ipython",
    "version": 3
   },
   "file_extension": ".py",
   "mimetype": "text/x-python",
   "name": "python",
   "nbconvert_exporter": "python",
   "pygments_lexer": "ipython3",
   "version": "3.7.3"
  }
 },
 "nbformat": 4,
 "nbformat_minor": 2
}
