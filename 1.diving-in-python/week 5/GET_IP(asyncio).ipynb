{
 "cells": [
  {
   "cell_type": "code",
   "execution_count": 1,
   "metadata": {},
   "outputs": [],
   "source": [
    "from collections import namedtuple\n",
    "import time\n",
    "import asyncio\n",
    "from concurrent.futures import FIRST_COMPLETED\n",
    "import aiohttp"
   ]
  },
  {
   "cell_type": "code",
   "execution_count": 2,
   "metadata": {},
   "outputs": [],
   "source": [
    "Service = namedtuple('Service', ('name', 'url', 'ip_attr'))"
   ]
  },
  {
   "cell_type": "code",
   "execution_count": 3,
   "metadata": {},
   "outputs": [],
   "source": [
    "SERVICES = (\n",
    "    Service('ipify', 'https://api.ipify.org?format=json', 'ip'),\n",
    "    Service('ip-api', 'http://ip-api.com/json', 'query'),\n",
    "    Service('Broken', 'https://ip--weq.3rqwesa', 'ip')\n",
    ")\n"
   ]
  },
  {
   "cell_type": "code",
   "execution_count": 4,
   "metadata": {},
   "outputs": [],
   "source": [
    "async def fetch_ip(service):\n",
    "    start = time.time()\n",
    "    print('Fetching IP from {}'.format(service.name))\n",
    "\n",
    "    async with aiohttp.ClientSession() as session:\n",
    "        try:\n",
    "            response = await session.get(service.url)\n",
    "        except:\n",
    "            print('{} is unresponsive'.format(service.name))\n",
    "        json_response = await response.json()\n",
    "        ip = json_response[service.ip_attr]\n",
    "\n",
    "    response.close()\n",
    "    print('{} finished with result: {}, took: {:.2f} seconds'.format(\n",
    "        service.name, ip, time.time() - start))\n"
   ]
  },
  {
   "cell_type": "code",
   "execution_count": 5,
   "metadata": {},
   "outputs": [],
   "source": [
    "async def asynchronous():\n",
    "    futures = [fetch_ip(service) for service in SERVICES]\n",
    "    #done, _ = await asyncio.wait(futures)\n",
    "    \n",
    "    await asyncio.wait(futures)\n",
    "\n",
    "\n",
    "   "
   ]
  },
  {
   "cell_type": "code",
   "execution_count": 6,
   "metadata": {},
   "outputs": [
    {
     "name": "stdout",
     "output_type": "stream",
     "text": [
      "Fetching IP from Broken\n",
      "Fetching IP from ipify\n",
      "Fetching IP from ip-api\n",
      "Broken is unresponsive\n",
      "ip-api finished with result: 93.84.84.103, took: 2.61 seconds\n"
     ]
    },
    {
     "name": "stderr",
     "output_type": "stream",
     "text": [
      "Task exception was never retrieved\n",
      "future: <Task finished coro=<fetch_ip() done, defined at <ipython-input-4-0742bbf56d64>:1> exception=UnboundLocalError(\"local variable 'response' referenced before assignment\")>\n",
      "Traceback (most recent call last):\n",
      "  File \"<ipython-input-4-0742bbf56d64>\", line 10, in fetch_ip\n",
      "    json_response = await response.json()\n",
      "UnboundLocalError: local variable 'response' referenced before assignment\n"
     ]
    },
    {
     "name": "stdout",
     "output_type": "stream",
     "text": [
      "ipify finished with result: 93.84.84.103, took: 3.14 seconds\n"
     ]
    }
   ],
   "source": [
    "await asynchronous()\n"
   ]
  },
  {
   "cell_type": "code",
   "execution_count": null,
   "metadata": {},
   "outputs": [],
   "source": []
  },
  {
   "cell_type": "code",
   "execution_count": null,
   "metadata": {},
   "outputs": [],
   "source": []
  },
  {
   "cell_type": "code",
   "execution_count": null,
   "metadata": {},
   "outputs": [],
   "source": []
  }
 ],
 "metadata": {
  "kernelspec": {
   "display_name": "Python 3",
   "language": "python",
   "name": "python3"
  },
  "language_info": {
   "codemirror_mode": {
    "name": "ipython",
    "version": 3
   },
   "file_extension": ".py",
   "mimetype": "text/x-python",
   "name": "python",
   "nbconvert_exporter": "python",
   "pygments_lexer": "ipython3",
   "version": "3.7.3"
  }
 },
 "nbformat": 4,
 "nbformat_minor": 2
}
