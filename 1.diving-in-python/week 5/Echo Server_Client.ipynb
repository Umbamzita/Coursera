{
 "cells": [
  {
   "cell_type": "code",
   "execution_count": null,
   "metadata": {},
   "outputs": [],
   "source": [
    "#echo server\n",
    "import socket\n",
    "HOST='127.0.0.1'\n",
    "PORT=10001\n",
    "s= socket.socket(socket.AF_INET, socket.SOCK_STREAM)\n",
    "s.bind((HOST,PORT))\n",
    "s.listen(10)\n",
    "while True:\n",
    "    conn, addr = s.accept()\n",
    "    print('Connect', addr)\n",
    "    s.settimeout(5)\n",
    "    with conn:\n",
    "        \n",
    "        while True:\n",
    "            try:\n",
    "                data=conn.recv(1024)\n",
    "            except s.timeout:\n",
    "                print('Close connect by timeout')\n",
    "                break\n",
    "            if not data:\n",
    "                break\n",
    "            \n",
    "            print(data.decode('utf8'))"
   ]
  },
  {
   "cell_type": "code",
   "execution_count": null,
   "metadata": {},
   "outputs": [],
   "source": []
  },
  {
   "cell_type": "code",
   "execution_count": null,
   "metadata": {},
   "outputs": [],
   "source": [
    "#echo client\n",
    "import socket\n",
    "HOST='127.0.0.1'\n",
    "PORT=10001\n",
    "\n",
    "sock=socket.create_connection((HOST, PORT))\n",
    "sock.sendall(b'hello boy')"
   ]
  },
  {
   "cell_type": "code",
   "execution_count": null,
   "metadata": {},
   "outputs": [],
   "source": []
  },
  {
   "cell_type": "code",
   "execution_count": 1,
   "metadata": {},
   "outputs": [],
   "source": [
    "#asyncio server echo\n",
    "import asyncio\n",
    "\n",
    "async def handle_echo(reader, writer):\n",
    "   \n",
    "    data = await reader.read(100)\n",
    "    message = data.decode()\n",
    "    addr = writer.get_extra_info('peername')\n",
    "\n",
    "    print(f\"Received {message!r} from {addr!r}\")\n",
    "\n",
    "    print(f\"Send: {message!r}\")\n",
    "    writer.write(data)\n",
    "    await writer.drain()\n",
    "    \n",
    "\n",
    "async def main():\n",
    "    server = await asyncio.start_server(\n",
    "        handle_echo, '127.0.0.1', 11111)\n",
    "\n",
    "    addr = server.sockets[0].getsockname()\n",
    "    print(f'Serving on {addr}')\n",
    "\n",
    "    async with server:\n",
    "        await server.serve_forever()"
   ]
  },
  {
   "cell_type": "code",
   "execution_count": null,
   "metadata": {},
   "outputs": [],
   "source": []
  },
  {
   "cell_type": "code",
   "execution_count": null,
   "metadata": {},
   "outputs": [],
   "source": [
    "#asyncio client echo\n",
    "import asyncio\n",
    "\n",
    "async def tcp_echo_client(message):\n",
    "    reader, writer = await asyncio.open_connection(\n",
    "        '127.0.0.1', 11111)\n",
    "\n",
    "    print(f'Send: {message!r}')\n",
    "    writer.write(message.encode())\n",
    "\n",
    "    data = await reader.read(100)\n",
    "    print(f'Received: {data.decode()!r}')\n",
    "\n",
    "    \n",
    "    writer.close()\n",
    "    await writer.wait_closed()"
   ]
  },
  {
   "cell_type": "code",
   "execution_count": null,
   "metadata": {},
   "outputs": [],
   "source": [
    "await tcp_echo_client('Hello')"
   ]
  }
 ],
 "metadata": {
  "kernelspec": {
   "display_name": "Python 3",
   "language": "python",
   "name": "python3"
  },
  "language_info": {
   "codemirror_mode": {
    "name": "ipython",
    "version": 3
   },
   "file_extension": ".py",
   "mimetype": "text/x-python",
   "name": "python",
   "nbconvert_exporter": "python",
   "pygments_lexer": "ipython3",
   "version": "3.7.3"
  }
 },
 "nbformat": 4,
 "nbformat_minor": 2
}
