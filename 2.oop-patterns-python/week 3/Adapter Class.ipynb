{
 "cells": [
  {
   "cell_type": "code",
   "execution_count": 65,
   "metadata": {},
   "outputs": [],
   "source": [
    "# Вы продолжаете писать игру, и настало время разобраться с расчетом освещенности на карте.\n",
    "# Так как это не совсем тривиальная задача, вы хотели бы использовать готовое решение, а не писать свое собственное. \n",
    "# Вам удалось найти готовый класс, который решает задачу, однако интерфейс этого класса не совместим с вашей игрой.\n",
    "# Вам нужно написать адаптер, который позволил бы использовать найденный вами класс совместно с вашей системой.\n",
    "\n",
    "# Класс Light создает в методе __init__ поле заданного размера. За размер поля отвечает параметр, \n",
    "# представляющий из себя кортеж из 2 чисел. Элемент dim[1] отвечает за высоту карты, dim[0] за ее ширину.\n",
    "# Метод set_lights устанавливает массив источников света с заданными координатами и просчитывает освещение. \n",
    "# Метод set_obstacles устанавливает препятствия аналогичным образом. Положение элементов задается списком кортежей. \n",
    "# В каждом элементе кортежа хранятся 2 значения: elem[0] -- координата по ширине карты и elem[1] -- координата по высоте\n",
    "# соответственно. Метод generate_lights рассчитывает освещенность с учетом источников и препятствий.\n",
    "\n",
    "# В системе в конструкторе создается двухмерная, карта, на которой источники света обозначены как 1, а препятствия как -1.\n",
    "# Метод get_lightening принимает в качестве аргумента объект, который должен посчитывать освещение. У объекта вызывается метод \n",
    "# lighten, который принимает карту объектов и источников света и возвращает карту освещенности"
   ]
  },
  {
   "cell_type": "code",
   "execution_count": 48,
   "metadata": {},
   "outputs": [],
   "source": [
    "class System:\n",
    "    def __init__(self):\n",
    "        self.map = self.grid = [[0 for i in range(30)] for _ in range(20)]\n",
    "        self.map[5][19] = 1 \n",
    "        self.map[5][7] = 1 # Источники света\n",
    "        self.map[5][2] = -1 # Стены\n",
    "    \n",
    "    def get_lightening(self, light_mapper):\n",
    "        self.lightmap = light_mapper.lighten(self.map)"
   ]
  },
  {
   "cell_type": "code",
   "execution_count": 49,
   "metadata": {},
   "outputs": [],
   "source": [
    "class Light:\n",
    "    def __init__(self, dim):\n",
    "        self.dim = dim\n",
    "        self.grid = [[0 for i in range(dim[0])] for _ in range(dim[1])]\n",
    "        self.lights = []\n",
    "        self.obstacles = []\n",
    "        \n",
    "    def set_dim(self, dim):\n",
    "        self.dim = dim\n",
    "        self.grid = [[0 for i in range(dim[0])] for _ in range(dim[1])]\n",
    "    \n",
    "    def set_lights(self, lights):\n",
    "        self.lights = lights\n",
    "        self.generate_lights()\n",
    "    \n",
    "    def set_obstacles(self, obstacles):\n",
    "        self.obstacles = obstacles\n",
    "        self.generate_lights()\n",
    "        \n",
    "    def generate_lights(self):\n",
    "        return self.grid.copy()"
   ]
  },
  {
   "cell_type": "code",
   "execution_count": 62,
   "metadata": {},
   "outputs": [],
   "source": [
    "# Реализуем адаптер для класса\n",
    "class MappingAdapter:\n",
    "    def __init__(self, adaptee):\n",
    "        # Сохраним адаптируемый объект \n",
    "        self.adaptee = adaptee\n",
    "        # Инициализируем пустые списки препятствий и источников света\n",
    "        self.lights = []\n",
    "        self.obstacles = []\n",
    "\n",
    "    def lighten(self, grid):\n",
    "        dim=(len(grid[0]), len(grid)) # Определение размера карты\n",
    "        # Считаем положения объектов с исходной карты\n",
    "        for x in range(len(grid)):\n",
    "            for y in range(len(grid[x])):\n",
    "                if grid[x][y] == 1:\n",
    "                           self.lights.append((y, x))\n",
    "                elif grid[x][y] == -1:\n",
    "                           self.obstacles.append((y, x))\n",
    "        \n",
    "        self.adaptee.set_dim(dim) # Установка размера карты в адаптируемом объекте\n",
    "        # Передадим положения объектов адаптируемому объекту\n",
    "        self.adaptee.set_lights(self.lights)\n",
    "        self.adaptee.set_obstacles(self.obstacles)\n",
    "        # Вернем полученную карту освещенности\n",
    "        return self.adaptee.generate_lights()\n",
    "        \n",
    "        \n",
    "        "
   ]
  },
  {
   "cell_type": "code",
   "execution_count": 63,
   "metadata": {},
   "outputs": [],
   "source": [
    "if __name__== \"__main__\":\n",
    "    system=System()\n",
    "    light=Light((10,20))\n",
    "    adapter=MappingAdapter(light)\n",
    "    system.get_lightening(adapter)"
   ]
  },
  {
   "cell_type": "code",
   "execution_count": null,
   "metadata": {},
   "outputs": [],
   "source": []
  }
 ],
 "metadata": {
  "kernelspec": {
   "display_name": "Python 3",
   "language": "python",
   "name": "python3"
  },
  "language_info": {
   "codemirror_mode": {
    "name": "ipython",
    "version": 3
   },
   "file_extension": ".py",
   "mimetype": "text/x-python",
   "name": "python",
   "nbconvert_exporter": "python",
   "pygments_lexer": "ipython3",
   "version": "3.7.3"
  }
 },
 "nbformat": 4,
 "nbformat_minor": 2
}
