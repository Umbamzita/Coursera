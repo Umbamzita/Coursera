{
 "cells": [
  {
   "cell_type": "code",
   "execution_count": 55,
   "metadata": {},
   "outputs": [],
   "source": [
    "from abc import ABC, abstractmethod"
   ]
  },
  {
   "cell_type": "code",
   "execution_count": 56,
   "metadata": {},
   "outputs": [],
   "source": [
    "class Engine:\n",
    "    pass"
   ]
  },
  {
   "cell_type": "code",
   "execution_count": 57,
   "metadata": {},
   "outputs": [],
   "source": [
    "class ObservableEngine(Engine):\n",
    "    def __init__(self): \n",
    "        self.__subscribers = set() # При инициализации множество подписчиков заводится пустым\n",
    "    \n",
    "    def subscribe(self, subscriber):\n",
    "        self.__subscribers.add(subscriber) # Для того чтобы подписать пользователя, он добавляется во множество подписчиков\n",
    "        \n",
    "    def unsubscribe(self, subscriber):\n",
    "        self.__subscribers.remove(subscriber) # Удаление подписчика из списка\n",
    "        \n",
    "    def notify(self, message):\n",
    "        for subscriber in self.__subscribers:\n",
    "            subscriber.update(message) # Отправка уведомления всем подписчикам"
   ]
  },
  {
   "cell_type": "code",
   "execution_count": 58,
   "metadata": {},
   "outputs": [],
   "source": [
    "\n",
    "class  AbstractObserver(ABC):\n",
    "    @abstractmethod\n",
    "    def update(self, message):\n",
    "        pass"
   ]
  },
  {
   "cell_type": "code",
   "execution_count": 59,
   "metadata": {},
   "outputs": [],
   "source": [
    "class ShortNotificationPrinter(AbstractObserver):\n",
    "    def __init__(self):\n",
    "        self.achievements=set()\n",
    "        \n",
    "    def update(self,message):\n",
    "        self.achievements.add(message['title'])\n",
    "        for x in self.achievements:\n",
    "            print(x)"
   ]
  },
  {
   "cell_type": "code",
   "execution_count": 60,
   "metadata": {},
   "outputs": [],
   "source": [
    "class FullNotificationPrinter(AbstractObserver):\n",
    "    def __init__(self):\n",
    "        self.achievements=list()\n",
    "        \n",
    "    def update(self,message):\n",
    "        if message  not in self.achievements:\n",
    "            self.achievements.append(message)\n",
    "        for x in self.achievements:\n",
    "            print(x)"
   ]
  },
  {
   "cell_type": "code",
   "execution_count": 61,
   "metadata": {},
   "outputs": [
    {
     "name": "stdout",
     "output_type": "stream",
     "text": [
      "{'title': 'Покоритель', 'text': 'Дается при выполнении всех заданий в игре'}\n",
      "Покоритель\n",
      "{'title': 'Покоритель', 'text': 'Дается при выполнении всех заданий в игре'}\n",
      "{'title': 'Разрушитель', 'text': 'Дается при убийстве босса'}\n",
      "Разрушитель\n",
      "Покоритель\n",
      "{'title': 'Покоритель', 'text': 'Дается при выполнении всех заданий в игре'}\n",
      "{'title': 'Разрушитель', 'text': 'Дается при убийстве босса'}\n",
      "Разрушитель\n",
      "Покоритель\n"
     ]
    }
   ],
   "source": [
    "if __name__==\"__main__\":\n",
    "    manager = ObservableEngine()\n",
    "    notifier1=ShortNotificationPrinter()\n",
    "    notifier3=ShortNotificationPrinter()\n",
    "    notifier2=FullNotificationPrinter()\n",
    "    manager.subscribe(notifier1)\n",
    "    manager.subscribe(notifier2)\n",
    "    manager.subscribe(notifier2)\n",
    "    mess={\"title\": \"Покоритель\", \"text\": \"Дается при выполнении всех заданий в игре\"}\n",
    "    manager.notify(mess)\n",
    "    mess1={\"title\": \"Разрушитель\", \"text\": \"Дается при убийстве босса\"}\n",
    "    manager.notify(mess1)\n",
    "    mess2={\"title\": \"Разрушитель\", \"text\": \"Дается при убийстве босса\"}\n",
    "    manager.notify(mess2)\n",
    "    "
   ]
  },
  {
   "cell_type": "code",
   "execution_count": 63,
   "metadata": {},
   "outputs": [
    {
     "data": {
      "text/plain": [
       "{<__main__.FullNotificationPrinter at 0x62bf978>,\n",
       " <__main__.ShortNotificationPrinter at 0x64c6b70>}"
      ]
     },
     "execution_count": 63,
     "metadata": {},
     "output_type": "execute_result"
    }
   ],
   "source": [
    "manager._ObservableEngine__subscribers"
   ]
  },
  {
   "cell_type": "code",
   "execution_count": 64,
   "metadata": {},
   "outputs": [],
   "source": [
    "manager.unsubscribe(notifier1)"
   ]
  },
  {
   "cell_type": "code",
   "execution_count": 65,
   "metadata": {},
   "outputs": [
    {
     "data": {
      "text/plain": [
       "{<__main__.FullNotificationPrinter at 0x62bf978>}"
      ]
     },
     "execution_count": 65,
     "metadata": {},
     "output_type": "execute_result"
    }
   ],
   "source": [
    "manager._ObservableEngine__subscribers"
   ]
  },
  {
   "cell_type": "code",
   "execution_count": null,
   "metadata": {},
   "outputs": [],
   "source": []
  }
 ],
 "metadata": {
  "kernelspec": {
   "display_name": "Python 3",
   "language": "python",
   "name": "python3"
  },
  "language_info": {
   "codemirror_mode": {
    "name": "ipython",
    "version": 3
   },
   "file_extension": ".py",
   "mimetype": "text/x-python",
   "name": "python",
   "nbconvert_exporter": "python",
   "pygments_lexer": "ipython3",
   "version": "3.7.3"
  }
 },
 "nbformat": 4,
 "nbformat_minor": 2
}
