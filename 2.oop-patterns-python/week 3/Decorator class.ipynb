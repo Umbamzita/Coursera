{
 "cells": [
  {
   "cell_type": "code",
   "execution_count": 1,
   "metadata": {},
   "outputs": [],
   "source": [
    "from abc import ABC, abstractmethod"
   ]
  },
  {
   "cell_type": "code",
   "execution_count": 2,
   "metadata": {},
   "outputs": [],
   "source": [
    "class Hero():\n",
    "    \n",
    "    def __init__(self):\n",
    "        self.positive_effects = []\n",
    "        self.negative_effects = []\n",
    "        \n",
    "        self.stats = {\n",
    "            \"HP\": 128,\n",
    "            \"MP\": 42,\n",
    "            \"SP\": 100,\n",
    "            \n",
    "            \"Strength\": 15,\n",
    "            \"Perception\": 4,\n",
    "            \"Endurance\": 8,\n",
    "            \"Charisma\": 2,\n",
    "            \"Intelligence\": 3,\n",
    "            \"Agility\": 8,\n",
    "            \"Luck\": 1\n",
    "        } \n",
    "        \n",
    "       \n",
    "    def get_positive_effects(self):\n",
    "        \n",
    "        return self.positive_effects.copy()\n",
    "    \n",
    "    \n",
    "    def get_negative_effects(self):\n",
    "        return self.negative_effects.copy()\n",
    "    \n",
    "    \n",
    "    def get_stats(self):\n",
    "        return self.stats.copy()"
   ]
  },
  {
   "cell_type": "code",
   "execution_count": 127,
   "metadata": {},
   "outputs": [],
   "source": [
    "class AbstractEffect(Hero, ABC):\n",
    "    def __init__(self, base):\n",
    "        self.base = base\n",
    "\n",
    "    @abstractmethod\n",
    "    def get_positive_effects(self):\n",
    "        self.base.positive_effects\n",
    "\n",
    "    @abstractmethod\n",
    "    def get_negative_effects(self):\n",
    "        self.base.negative_effects\n",
    "\n",
    "    @abstractmethod\n",
    "    def get_stats(self):\n",
    "        self.base.stats\n"
   ]
  },
  {
   "cell_type": "code",
   "execution_count": 128,
   "metadata": {},
   "outputs": [],
   "source": [
    "class AbstractPositive(AbstractEffect):\n",
    "    \n",
    "    def get_negative_effects(self):\n",
    "        return self.base.get_negative_effects()"
   ]
  },
  {
   "cell_type": "code",
   "execution_count": 129,
   "metadata": {},
   "outputs": [],
   "source": [
    "class AbstractNegative(AbstractEffect):\n",
    "    \n",
    "    def get_positive_effects(self):\n",
    "        return self.base.get_positive_effects()"
   ]
  },
  {
   "cell_type": "code",
   "execution_count": null,
   "metadata": {},
   "outputs": [],
   "source": []
  },
  {
   "cell_type": "code",
   "execution_count": 130,
   "metadata": {},
   "outputs": [],
   "source": [
    "class Berserk(AbstractPositive):\n",
    "    def get_stats(self):\n",
    "        stats = self.base.get_stats()\n",
    "        stats[\"HP\"] += 50\n",
    "        stats[\"Strength\"] += 7\n",
    "        stats[\"Endurance\"] += 7\n",
    "        stats[\"Agility\"] += 7\n",
    "        stats[\"Luck\"] += 7\n",
    "        stats[\"Perception\"] -= 3\n",
    "        stats[\"Charisma\"] -= 3\n",
    "        stats[\"Intelligence\"] -= 3\n",
    "        return stats\n",
    "    \n",
    "        \n",
    "    def get_positive_effects(self):\n",
    "        \n",
    "        return self.base.get_positive_effects()+['Berserk']\n",
    "        "
   ]
  },
  {
   "cell_type": "code",
   "execution_count": 131,
   "metadata": {},
   "outputs": [],
   "source": [
    "class Blessing(AbstractPositive):\n",
    "    def get_stats(self):\n",
    "        stats = self.base.get_stats()\n",
    "        \n",
    "        stats[\"Strength\"] += 2\n",
    "        stats[\"Endurance\"] += 2\n",
    "        stats[\"Agility\"] += 2\n",
    "        stats[\"Luck\"] += 2\n",
    "        stats[\"Perception\"] += 2\n",
    "        stats[\"Charisma\"] += 2\n",
    "        stats[\"Intelligence\"] += 2\n",
    "        return stats\n",
    "    \n",
    "        \n",
    "    def get_positive_effects(self):\n",
    "        \n",
    "        return self.base.get_positive_effects()+['Blessing']"
   ]
  },
  {
   "cell_type": "code",
   "execution_count": 132,
   "metadata": {},
   "outputs": [],
   "source": [
    "class Weakness(AbstractNegative):\n",
    "    def get_stats(self):\n",
    "        stats=self.base.get_stats()\n",
    "        stats['Strength'] -=4\n",
    "        stats['Endurance'] -=4\n",
    "        stats['Agility'] -=4\n",
    "        return stats\n",
    "    \n",
    "    def get_negative_effects(self):\n",
    "        return self.base.get_negative_effects()+[\"Weakness\"]"
   ]
  },
  {
   "cell_type": "code",
   "execution_count": 133,
   "metadata": {},
   "outputs": [],
   "source": [
    "class EvilEye(AbstractNegative):\n",
    "    def get_stats(self):\n",
    "        stats=self.base.get_stats()\n",
    "        stats['Luck'] -=10\n",
    "        return stats\n",
    "    \n",
    "    def get_negative_effects(self):\n",
    "        return self.base.get_negative_effects()+[\"EvilEye\"]"
   ]
  },
  {
   "cell_type": "code",
   "execution_count": 134,
   "metadata": {},
   "outputs": [],
   "source": [
    "class Curse(AbstractNegative):\n",
    "    def get_stats(self):\n",
    "        stats = self.base.get_stats()\n",
    "        \n",
    "        stats[\"Strength\"] -= 2\n",
    "        stats[\"Endurance\"] -= 2\n",
    "        stats[\"Agility\"] -= 2\n",
    "        stats[\"Luck\"] -= 2\n",
    "        stats[\"Perception\"] -= 2\n",
    "        stats[\"Charisma\"] -= 2\n",
    "        stats[\"Intelligence\"] -= 2\n",
    "        return stats\n",
    "    \n",
    "        \n",
    "    def get_negative_effects(self):\n",
    "        \n",
    "        return self.base.get_negative_effects()+['Curse']"
   ]
  },
  {
   "cell_type": "code",
   "execution_count": 135,
   "metadata": {},
   "outputs": [],
   "source": [
    "hero = Hero()"
   ]
  },
  {
   "cell_type": "code",
   "execution_count": 136,
   "metadata": {},
   "outputs": [
    {
     "data": {
      "text/plain": [
       "{'HP': 128,\n",
       " 'MP': 42,\n",
       " 'SP': 100,\n",
       " 'Strength': 15,\n",
       " 'Perception': 4,\n",
       " 'Endurance': 8,\n",
       " 'Charisma': 2,\n",
       " 'Intelligence': 3,\n",
       " 'Agility': 8,\n",
       " 'Luck': 1}"
      ]
     },
     "execution_count": 136,
     "metadata": {},
     "output_type": "execute_result"
    }
   ],
   "source": [
    "hero.get_stats()"
   ]
  },
  {
   "cell_type": "code",
   "execution_count": 137,
   "metadata": {},
   "outputs": [
    {
     "data": {
      "text/plain": [
       "[]"
      ]
     },
     "execution_count": 137,
     "metadata": {},
     "output_type": "execute_result"
    }
   ],
   "source": [
    "hero.get_negative_effects()"
   ]
  },
  {
   "cell_type": "code",
   "execution_count": 138,
   "metadata": {},
   "outputs": [],
   "source": [
    "brs1 = Berserk(hero)"
   ]
  },
  {
   "cell_type": "code",
   "execution_count": 139,
   "metadata": {},
   "outputs": [
    {
     "data": {
      "text/plain": [
       "{'HP': 178,\n",
       " 'MP': 42,\n",
       " 'SP': 100,\n",
       " 'Strength': 22,\n",
       " 'Perception': 1,\n",
       " 'Endurance': 15,\n",
       " 'Charisma': -1,\n",
       " 'Intelligence': 0,\n",
       " 'Agility': 15,\n",
       " 'Luck': 8}"
      ]
     },
     "execution_count": 139,
     "metadata": {},
     "output_type": "execute_result"
    }
   ],
   "source": [
    "brs1.get_stats()"
   ]
  },
  {
   "cell_type": "code",
   "execution_count": 140,
   "metadata": {},
   "outputs": [
    {
     "data": {
      "text/plain": [
       "[]"
      ]
     },
     "execution_count": 140,
     "metadata": {},
     "output_type": "execute_result"
    }
   ],
   "source": [
    "brs1.get_negative_effects()"
   ]
  },
  {
   "cell_type": "code",
   "execution_count": 141,
   "metadata": {},
   "outputs": [
    {
     "data": {
      "text/plain": [
       "['Berserk']"
      ]
     },
     "execution_count": 141,
     "metadata": {},
     "output_type": "execute_result"
    }
   ],
   "source": [
    "brs1.get_positive_effects()"
   ]
  },
  {
   "cell_type": "code",
   "execution_count": 142,
   "metadata": {},
   "outputs": [],
   "source": [
    "brs2 = Berserk(brs1)"
   ]
  },
  {
   "cell_type": "code",
   "execution_count": 143,
   "metadata": {},
   "outputs": [],
   "source": [
    "cur1 = Curse(brs2)"
   ]
  },
  {
   "cell_type": "code",
   "execution_count": 144,
   "metadata": {},
   "outputs": [
    {
     "data": {
      "text/plain": [
       "{'HP': 228,\n",
       " 'MP': 42,\n",
       " 'SP': 100,\n",
       " 'Strength': 27,\n",
       " 'Perception': -4,\n",
       " 'Endurance': 20,\n",
       " 'Charisma': -6,\n",
       " 'Intelligence': -5,\n",
       " 'Agility': 20,\n",
       " 'Luck': 13}"
      ]
     },
     "execution_count": 144,
     "metadata": {},
     "output_type": "execute_result"
    }
   ],
   "source": [
    "cur1.get_stats()"
   ]
  },
  {
   "cell_type": "code",
   "execution_count": 145,
   "metadata": {},
   "outputs": [
    {
     "data": {
      "text/plain": [
       "['Berserk', 'Berserk']"
      ]
     },
     "execution_count": 145,
     "metadata": {},
     "output_type": "execute_result"
    }
   ],
   "source": [
    "cur1.get_positive_effects()"
   ]
  },
  {
   "cell_type": "code",
   "execution_count": 146,
   "metadata": {},
   "outputs": [
    {
     "data": {
      "text/plain": [
       "['Curse']"
      ]
     },
     "execution_count": 146,
     "metadata": {},
     "output_type": "execute_result"
    }
   ],
   "source": [
    "cur1.get_negative_effects()"
   ]
  },
  {
   "cell_type": "code",
   "execution_count": 147,
   "metadata": {},
   "outputs": [],
   "source": [
    "cur1.base = brs1"
   ]
  },
  {
   "cell_type": "code",
   "execution_count": 148,
   "metadata": {},
   "outputs": [
    {
     "data": {
      "text/plain": [
       "{'HP': 178,\n",
       " 'MP': 42,\n",
       " 'SP': 100,\n",
       " 'Strength': 20,\n",
       " 'Perception': -1,\n",
       " 'Endurance': 13,\n",
       " 'Charisma': -3,\n",
       " 'Intelligence': -2,\n",
       " 'Agility': 13,\n",
       " 'Luck': 6}"
      ]
     },
     "execution_count": 148,
     "metadata": {},
     "output_type": "execute_result"
    }
   ],
   "source": [
    "cur1.get_stats()"
   ]
  },
  {
   "cell_type": "code",
   "execution_count": 125,
   "metadata": {},
   "outputs": [
    {
     "data": {
      "text/plain": [
       "['Curse']"
      ]
     },
     "execution_count": 125,
     "metadata": {},
     "output_type": "execute_result"
    }
   ],
   "source": [
    "cur1.get_negative_effects()"
   ]
  },
  {
   "cell_type": "code",
   "execution_count": 126,
   "metadata": {},
   "outputs": [
    {
     "data": {
      "text/plain": [
       "['Berserk']"
      ]
     },
     "execution_count": 126,
     "metadata": {},
     "output_type": "execute_result"
    }
   ],
   "source": [
    "cur1.get_positive_effects()"
   ]
  },
  {
   "cell_type": "code",
   "execution_count": null,
   "metadata": {},
   "outputs": [],
   "source": []
  },
  {
   "cell_type": "code",
   "execution_count": null,
   "metadata": {},
   "outputs": [],
   "source": []
  },
  {
   "cell_type": "code",
   "execution_count": null,
   "metadata": {},
   "outputs": [],
   "source": []
  },
  {
   "cell_type": "code",
   "execution_count": null,
   "metadata": {},
   "outputs": [],
   "source": []
  },
  {
   "cell_type": "code",
   "execution_count": null,
   "metadata": {},
   "outputs": [],
   "source": []
  }
 ],
 "metadata": {
  "kernelspec": {
   "display_name": "Python 3",
   "language": "python",
   "name": "python3"
  },
  "language_info": {
   "codemirror_mode": {
    "name": "ipython",
    "version": 3
   },
   "file_extension": ".py",
   "mimetype": "text/x-python",
   "name": "python",
   "nbconvert_exporter": "python",
   "pygments_lexer": "ipython3",
   "version": "3.7.3"
  }
 },
 "nbformat": 4,
 "nbformat_minor": 2
}
