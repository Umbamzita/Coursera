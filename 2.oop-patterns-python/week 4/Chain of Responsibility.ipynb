{
 "cells": [
  {
   "cell_type": "code",
   "execution_count": 14,
   "metadata": {},
   "outputs": [],
   "source": [
    "QUEST_SPEAK, QUEST_HUNT, QUEST_CARRY = \"QSPEAK\", \"QHUNT\", \"QCARRY\""
   ]
  },
  {
   "cell_type": "code",
   "execution_count": 1,
   "metadata": {},
   "outputs": [],
   "source": [
    "class Character :\n",
    "    def __init__(self):\n",
    "        self.name = \"Nagibator\"\n",
    "        self.xp = 0\n",
    "        self.passed_quests = set()\n",
    "        self.taken_quests = set()\n"
   ]
  },
  {
   "cell_type": "code",
   "execution_count": 2,
   "metadata": {},
   "outputs": [],
   "source": [
    "class Event:\n",
    "    def __init__(self , kind):\n",
    "        self.kind = kind"
   ]
  },
  {
   "cell_type": "code",
   "execution_count": 4,
   "metadata": {},
   "outputs": [],
   "source": [
    "# Нулевое звено цепочки), которое будет передавать событие на обработку следующему обработчику, если таковой имеется\n",
    "class NullHandler :\n",
    "    def __init__(self , successor =None):\n",
    "        # передаём следующее звено\n",
    "        self. __successor = successor\n",
    "        \n",
    "    def handle(self , char , event): # обработчик\n",
    "        if self. __successor is not None: #даём следующему\n",
    "            self.__successor.handle(char, event)"
   ]
  },
  {
   "cell_type": "code",
   "execution_count": 8,
   "metadata": {},
   "outputs": [],
   "source": [
    "class HandleQSpeak(NullHandler):\n",
    "    def handle(self, char , event):\n",
    "        if event.kind == QUEST_SPEAK:\n",
    "            xp = 100\n",
    "            quest_name = \"Поговорить сфермером\"\n",
    "            if event.kind not in (char.passed_quests | char.taken_quests):\n",
    "                print(f\"Квест получен: \\\"{quest_name}\\\"\")\n",
    "                char.taken_quests .add(event.kind)\n",
    "            elif event.kind in char. taken_quests:\n",
    "                print(f\"Квест сдан: \\\"{quest_name}\\\"\")\n",
    "                char.passed_quests.add(event.kind)\n",
    "                char.taken_quests.remove(event.kind)\n",
    "                char.xp += xp\n",
    "        else:\n",
    "            print(\"Передаю обработкудальше \")\n",
    "            super().handle(char, event)"
   ]
  },
  {
   "cell_type": "code",
   "execution_count": 9,
   "metadata": {},
   "outputs": [],
   "source": [
    "class HandleQCarry(NullHandler):\n",
    "    def handle(self, char , event):\n",
    "        if event.kind == QUEST_CARRY:\n",
    "            xp = 200\n",
    "            quest_name = \"Принести дрова из сарая\"\n",
    "            if event.kind not in (char.passed_quests | char.taken_quests):\n",
    "                print(f\"Квест получен: \\\"{quest_name}\\\"\")\n",
    "                char.taken_quests .add(event.kind)\n",
    "            elif event.kind in char. taken_quests:\n",
    "                print(f\"Квест сдан: \\\"{quest_name}\\\"\")\n",
    "                char.passed_quests.add(event.kind)\n",
    "                char.taken_quests.remove(event.kind)\n",
    "                char.xp += xp\n",
    "        else:\n",
    "            print(\"Передаю обработкудальше \")\n",
    "            super().handle(char, event)"
   ]
  },
  {
   "cell_type": "code",
   "execution_count": 10,
   "metadata": {},
   "outputs": [],
   "source": [
    "class HandleQHunt(NullHandler):\n",
    "    def handle(self, char , event):\n",
    "        if event.kind == QUEST_HUNT:\n",
    "            xp = 300\n",
    "            quest_name = \"Охота накрыс\"\n",
    "            if event.kind not in (char.passed_quests | char.taken_quests):\n",
    "                print(f\"Квест получен: \\\"{quest_name}\\\"\")\n",
    "                char.taken_quests .add(event.kind)\n",
    "            elif event.kind in char. taken_quests:\n",
    "                print(f\"Квест сдан: \\\"{quest_name}\\\"\")\n",
    "                char.passed_quests.add(event.kind)\n",
    "                char.taken_quests.remove(event.kind)\n",
    "                char.xp += xp\n",
    "        else:\n",
    "            print(\"Передаю обработку дальше \")\n",
    "            super().handle(char, event)"
   ]
  },
  {
   "cell_type": "code",
   "execution_count": 27,
   "metadata": {},
   "outputs": [],
   "source": [
    "class QuestGiver:\n",
    "    def __init__(self):\n",
    "        self.handlers = HandleQSpeak(HandleQHunt(HandleQCarry(NullHandler())))\n",
    "        self.events = [] # изначально пустой списко событий\n",
    "\n",
    "    def add_event(self , event): # добавляем события\n",
    "        self.events.append(event)\n",
    "            \n",
    "        # передаём событие цепочке обязанностей\n",
    "    def handle_quests(self, char):\n",
    "        for event in self.events:\n",
    "            self.handlers.handle(char, event)"
   ]
  },
  {
   "cell_type": "code",
   "execution_count": 28,
   "metadata": {},
   "outputs": [],
   "source": [
    "events = [Event(QUEST_CARRY), Event(QUEST_HUNT), Event(QUEST_SPEAK )]\n"
   ]
  },
  {
   "cell_type": "code",
   "execution_count": 29,
   "metadata": {},
   "outputs": [],
   "source": [
    "quest_giver = QuestGiver()"
   ]
  },
  {
   "cell_type": "code",
   "execution_count": 30,
   "metadata": {},
   "outputs": [],
   "source": [
    "for event in events:\n",
    "    quest_giver.add_event(event)"
   ]
  },
  {
   "cell_type": "code",
   "execution_count": 32,
   "metadata": {},
   "outputs": [],
   "source": [
    "player = Character ()"
   ]
  },
  {
   "cell_type": "code",
   "execution_count": 33,
   "metadata": {},
   "outputs": [
    {
     "name": "stdout",
     "output_type": "stream",
     "text": [
      "Передаю обработкудальше \n",
      "Передаю обработкудальше \n",
      "Квест получен: \"Принести дрова из сарая\"\n",
      "Передаю обработкудальше \n",
      "Квест получен: \"Охота накрыс\"\n",
      "Квест получен: \"Поговорить сфермером\"\n",
      "\n"
     ]
    }
   ],
   "source": [
    "quest_giver . handle_quests (player)\n",
    "print()\n"
   ]
  },
  {
   "cell_type": "code",
   "execution_count": null,
   "metadata": {},
   "outputs": [],
   "source": []
  },
  {
   "cell_type": "code",
   "execution_count": null,
   "metadata": {},
   "outputs": [],
   "source": []
  },
  {
   "cell_type": "code",
   "execution_count": null,
   "metadata": {},
   "outputs": [],
   "source": []
  },
  {
   "cell_type": "code",
   "execution_count": null,
   "metadata": {},
   "outputs": [],
   "source": []
  }
 ],
 "metadata": {
  "kernelspec": {
   "display_name": "Python 3",
   "language": "python",
   "name": "python3"
  },
  "language_info": {
   "codemirror_mode": {
    "name": "ipython",
    "version": 3
   },
   "file_extension": ".py",
   "mimetype": "text/x-python",
   "name": "python",
   "nbconvert_exporter": "python",
   "pygments_lexer": "ipython3",
   "version": "3.7.3"
  }
 },
 "nbformat": 4,
 "nbformat_minor": 2
}
