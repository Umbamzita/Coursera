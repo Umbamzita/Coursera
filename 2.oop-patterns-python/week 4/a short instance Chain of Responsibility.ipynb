{
 "cells": [
  {
   "cell_type": "code",
   "execution_count": 1,
   "metadata": {},
   "outputs": [],
   "source": [
    "class Character :\n",
    "    def __init__(self):\n",
    "        self.name = \"Nagibator\"\n",
    "        self.xp = 0\n",
    "        self.passed_quests = set()\n",
    "        self.taken_quests = set()\n"
   ]
  },
  {
   "cell_type": "code",
   "execution_count": 2,
   "metadata": {},
   "outputs": [],
   "source": [
    "def add_quest_speak(char):\n",
    "    quest_name = \"Поговорить\"\n",
    "    xp = 100\n",
    "    if quest_name not in (char. passed_quests | char.taken_quests):\n",
    "        print(f\"Квест получен: \\\"{quest_name}\\\"\")\n",
    "        char. taken_quests.add(quest_name)\n",
    "    elif quest_name in char.taken_quests :\n",
    "        print(f\"Квест сдан: \\\"{quest_name}\\\"\")\n",
    "        char. passed_quests.add(quest_name)\n",
    "        char. taken_quests.remove(quest_name)\n",
    "        char.xp += xp     \n"
   ]
  },
  {
   "cell_type": "code",
   "execution_count": 3,
   "metadata": {},
   "outputs": [],
   "source": [
    "def add_quest_hunt(char):\n",
    "    quest_name = \"Охота \"\n",
    "    xp = 300\n",
    "    if quest_name not in (char. passed_quests | char.taken_quests):\n",
    "        print(f\"Квест получен: \\\"{quest_name}\\\"\")\n",
    "        char. taken_quests.add(quest_name)\n",
    "    elif quest_name in char.taken_quests:\n",
    "        print(f\"Квест сдан: \\\"{quest_name}\\\"\")\n",
    "        char. passed_quests.add(quest_name)\n",
    "        char. taken_quests.remove(quest_name)\n",
    "        char.xp += xp"
   ]
  },
  {
   "cell_type": "code",
   "execution_count": 4,
   "metadata": {},
   "outputs": [],
   "source": [
    "def add_quest_carry (char):\n",
    "    quest_name = \"Принести доски\"\n",
    "    xp = 200\n",
    "    if quest_name not in (char. passed_quests | char.taken_quests):\n",
    "        print(f\"Квест получен: \\\"{quest_name}\\\"\")\n",
    "        char. taken_quests.add(quest_name)\n",
    "    elif quest_name in char.taken_quests :\n",
    "        print(f\"Квест сдан: \\\"{quest_name}\\\"\")\n",
    "        char. passed_quests.add(quest_name)\n",
    "        char. taken_quests.remove(quest_name)\n",
    "        char.xp += xp"
   ]
  },
  {
   "cell_type": "code",
   "execution_count": 5,
   "metadata": {},
   "outputs": [],
   "source": [
    "class QuestGiver :\n",
    "    def __init__(self):\n",
    "        self.quests = []\n",
    "        \n",
    "    def add_quest (self , quest):\n",
    "        self.quests.append(quest)\n",
    "        \n",
    "    def handle_quests (self, character):\n",
    "        for quest in self.quests:\n",
    "            quest(character)"
   ]
  },
  {
   "cell_type": "code",
   "execution_count": 6,
   "metadata": {},
   "outputs": [],
   "source": [
    "all_quests = [add_quest_speak , add_quest_hunt , add_quest_carry]"
   ]
  },
  {
   "cell_type": "code",
   "execution_count": 7,
   "metadata": {},
   "outputs": [],
   "source": [
    "quest_giver = QuestGiver()\n",
    "player = Character()"
   ]
  },
  {
   "cell_type": "code",
   "execution_count": 8,
   "metadata": {},
   "outputs": [],
   "source": [
    "for quest in all_quests :\n",
    "    quest_giver.add_quest(quest)\n"
   ]
  },
  {
   "cell_type": "code",
   "execution_count": 9,
   "metadata": {},
   "outputs": [
    {
     "name": "stdout",
     "output_type": "stream",
     "text": [
      "Квест получен: \"Поговорить\"\n",
      "Квест получен: \"Охота \"\n",
      "Квест получен: \"Принести доски\"\n"
     ]
    }
   ],
   "source": [
    "quest_giver.handle_quests(player)"
   ]
  },
  {
   "cell_type": "code",
   "execution_count": 10,
   "metadata": {},
   "outputs": [
    {
     "name": "stdout",
     "output_type": "stream",
     "text": [
      "Получено:  {'Охота ', 'Поговорить', 'Принести доски'}\n",
      "Сдано:  set()\n"
     ]
    }
   ],
   "source": [
    "print(\"Получено: \", player. taken_quests )\n",
    "print(\"Сдано: \", player. passed_quests )\n"
   ]
  },
  {
   "cell_type": "code",
   "execution_count": 11,
   "metadata": {},
   "outputs": [
    {
     "name": "stdout",
     "output_type": "stream",
     "text": [
      "Квест сдан: \"Поговорить\"\n",
      "Квест получен: \"Охота \"\n",
      "Квест получен: \"Принести доски\"\n"
     ]
    }
   ],
   "source": [
    "player.taken_quests = {'Принести доски ', 'Поговорить'}\n",
    "quest_giver.handle_quests (player)\n"
   ]
  },
  {
   "cell_type": "code",
   "execution_count": 12,
   "metadata": {},
   "outputs": [
    {
     "name": "stdout",
     "output_type": "stream",
     "text": [
      "Квест сдан: \"Охота \"\n",
      "Квест сдан: \"Принести доски\"\n"
     ]
    }
   ],
   "source": [
    "quest_giver.handle_quests (player)"
   ]
  }
 ],
 "metadata": {
  "kernelspec": {
   "display_name": "Python 3",
   "language": "python",
   "name": "python3"
  },
  "language_info": {
   "codemirror_mode": {
    "name": "ipython",
    "version": 3
   },
   "file_extension": ".py",
   "mimetype": "text/x-python",
   "name": "python",
   "nbconvert_exporter": "python",
   "pygments_lexer": "ipython3",
   "version": "3.7.3"
  }
 },
 "nbformat": 4,
 "nbformat_minor": 2
}
