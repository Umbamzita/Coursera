{
 "cells": [
  {
   "cell_type": "code",
   "execution_count": 2,
   "metadata": {},
   "outputs": [],
   "source": [
    "class SomeObject:\n",
    "    def __init__(self):\n",
    "        self.integer_field = 0\n",
    "        self.float_field = 0.0\n",
    "        self.string_field = \"\""
   ]
  },
  {
   "cell_type": "code",
   "execution_count": 3,
   "metadata": {},
   "outputs": [],
   "source": [
    "class EventGet:\n",
    "    def __init__(self, typ):\n",
    "        self.typ=typ\n",
    "    "
   ]
  },
  {
   "cell_type": "code",
   "execution_count": 4,
   "metadata": {},
   "outputs": [],
   "source": [
    "class EventSet:\n",
    "    def __init__(self, value):\n",
    "        self.value=value\n",
    "        \n",
    "        \n",
    "    "
   ]
  },
  {
   "cell_type": "code",
   "execution_count": 5,
   "metadata": {},
   "outputs": [],
   "source": [
    "class NullHandler:\n",
    "    def __init__ (self, successor=None):        \n",
    "        self.__successor = successor\n",
    "\n",
    "    def handle (self, obj, event): \n",
    "        if self.__successor is not None:\n",
    "            return self.__successor.handle (obj, event)\n"
   ]
  },
  {
   "cell_type": "code",
   "execution_count": 6,
   "metadata": {},
   "outputs": [],
   "source": [
    "class IntHandler(NullHandler):\n",
    "    def handle(self, obj, event):\n",
    "        if isinstance(event, EventGet):\n",
    "            if event.typ == int:\n",
    "                return obj.integer_field\n",
    "            else:\n",
    "                return super().handle(obj, event)\n",
    "        elif isinstance(event, EventSet):\n",
    "            if isinstance(event.value, int):\n",
    "                obj.integer_field = event.value\n",
    "            else:\n",
    "                super().handle(obj, event)\n",
    "            \n",
    "        \n",
    "    "
   ]
  },
  {
   "cell_type": "code",
   "execution_count": 7,
   "metadata": {},
   "outputs": [],
   "source": [
    "class FloatHandler(NullHandler):\n",
    "    def handle(self, obj , event):\n",
    "        if isinstance(event, EventGet):\n",
    "            if event.typ == float:\n",
    "                return obj.float_field\n",
    "            else:\n",
    "                return super().handle(obj, event)\n",
    "        elif isinstance(event, EventSet):\n",
    "            if isinstance(event.value, float):\n",
    "                obj.float_field = event.value\n",
    "            else:\n",
    "                super().handle(obj, event)\n",
    "            \n",
    "            \n",
    "        "
   ]
  },
  {
   "cell_type": "code",
   "execution_count": 8,
   "metadata": {},
   "outputs": [],
   "source": [
    "class StrHandler(NullHandler):\n",
    "    def handle(self, obj , event):\n",
    "        if isinstance(event, EventGet):\n",
    "            if event.typ == str:\n",
    "                return obj.string_field\n",
    "            else:\n",
    "                return super().handle(obj, event)\n",
    "        elif isinstance(event, EventSet):\n",
    "            if isinstance(event.value, str):\n",
    "                obj.string_field = event.value\n",
    "            else:\n",
    "                super().handle(obj, event)\n",
    "  "
   ]
  },
  {
   "cell_type": "code",
   "execution_count": 20,
   "metadata": {},
   "outputs": [
    {
     "name": "stdout",
     "output_type": "stream",
     "text": [
      "55\n",
      "3.14\n",
      "some text\n",
      "100\n",
      "0.5\n",
      "new text\n"
     ]
    }
   ],
   "source": [
    "if __name__==\"__main__\":\n",
    "    obj = SomeObject()\n",
    "    obj.integer_field = 55\n",
    "    obj.float_field = 3.14\n",
    "    obj.string_field = \"some text\"\n",
    "    chain = IntHandler(FloatHandler(StrHandler(NullHandler)))\n",
    "    print(chain.handle(obj, EventGet(int)))\n",
    "    print(chain.handle(obj, EventGet(float)))\n",
    "    print(chain.handle(obj, EventGet(str)))\n",
    "    chain.handle(obj, EventSet(100))\n",
    "    print(chain.handle(obj, EventGet(int)))\n",
    "    chain.handle(obj, EventSet(0.5))\n",
    "    print(chain.handle(obj, EventGet(float)))\n",
    "    chain.handle(obj, EventSet('new text'))\n",
    "    print(chain.handle(obj, EventGet(str)))\n",
    "    "
   ]
  },
  {
   "cell_type": "code",
   "execution_count": null,
   "metadata": {},
   "outputs": [],
   "source": []
  },
  {
   "cell_type": "code",
   "execution_count": null,
   "metadata": {},
   "outputs": [],
   "source": []
  }
 ],
 "metadata": {
  "kernelspec": {
   "display_name": "Python 3",
   "language": "python",
   "name": "python3"
  },
  "language_info": {
   "codemirror_mode": {
    "name": "ipython",
    "version": 3
   },
   "file_extension": ".py",
   "mimetype": "text/x-python",
   "name": "python",
   "nbconvert_exporter": "python",
   "pygments_lexer": "ipython3",
   "version": "3.7.3"
  }
 },
 "nbformat": 4,
 "nbformat_minor": 2
}
