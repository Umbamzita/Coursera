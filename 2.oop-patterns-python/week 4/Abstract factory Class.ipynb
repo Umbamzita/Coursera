{
 "cells": [
  {
   "cell_type": "code",
   "execution_count": 1,
   "metadata": {},
   "outputs": [],
   "source": [
    "import random"
   ]
  },
  {
   "cell_type": "code",
   "execution_count": 2,
   "metadata": {},
   "outputs": [],
   "source": [
    "class AbstractLevel:\n",
    "    @classmethod\n",
    "    def get_map(cls):\n",
    "        return cls.Map()\n",
    "    \n",
    "    @classmethod\n",
    "    def get_objects(cls):\n",
    "        return cls.Objects()\n",
    "        "
   ]
  },
  {
   "cell_type": "code",
   "execution_count": 17,
   "metadata": {},
   "outputs": [],
   "source": [
    "class EasyLevel(AbstractLevel):   \n",
    "    class Map:\n",
    "        def __init__(self):\n",
    "            self._map = [[0 for j in range(5)] for i in range(5)]\n",
    "            for i in range(5):\n",
    "                for j in range(5):\n",
    "                    if i == 0 or j == 0 or i == 4 or j == 4:\n",
    "                        # граница карты\n",
    "                        self._map[j][i] = -1 \n",
    "                    else:\n",
    "                        # случайная характеристика области\n",
    "                        self._map[j][i] = random.randint(0, 2)\n",
    "\n",
    "        def get_map(self):\n",
    "            print('Easy map was created')\n",
    "            return self._map\n",
    "\n",
    "\n",
    "    class Objects:\n",
    "        def __init__(self):\n",
    "            # размещаем переход на след. уровень\n",
    "            self.objects = [('next_lvl', (2, 2))]\n",
    "\n",
    "        def get_objects(self, map_obj):\n",
    "            # размещаем противников\n",
    "            for obj_name in ['rat']:\n",
    "                coord = (random.randint(1, 3), random.randint(1, 3))\n",
    "                # ищем случайную свободную локацию\n",
    "                intersect = True\n",
    "                while intersect:\n",
    "                    intersect = False\n",
    "                    for obj in self.objects:\n",
    "                        if coord == obj[1]:\n",
    "                            intersect = True\n",
    "                            coord = (random.randint(1, 3), random.randint(1, 3))\n",
    "\n",
    "                self.objects.append((obj_name, coord))\n",
    "            print('Easy object was created')\n",
    "            return self.objects\n",
    "\n"
   ]
  },
  {
   "cell_type": "code",
   "execution_count": 18,
   "metadata": {},
   "outputs": [],
   "source": [
    "class MediumLevel(AbstractLevel):      \n",
    "    class Map:\n",
    "        def __init__(self):\n",
    "            self._map = [[0 for j in range(8)] for i in range(8)]\n",
    "            for i in range(8):\n",
    "                for j in range(8):\n",
    "                    if i == 0 or j == 0 or i == 7 or j == 7:\n",
    "                        # граница карты\n",
    "                        self._map[j][i] = -1  \n",
    "                    else:\n",
    "                        # случайная характеристика области\n",
    "                        self._map[j][i] = random.randint(0, 2)\n",
    "\n",
    "        def get_map(self):\n",
    "            return self._map\n",
    "\n",
    "\n",
    "    class Objects:\n",
    "        def __init__(self):\n",
    "            # размещаем переход на след. уровень\n",
    "            self.objects = [('next_lvl', (4, 4))]\n",
    "\n",
    "        def get_objects(self, map_obj):\n",
    "            # размещаем врагов\n",
    "            for obj_name in ['rat', 'snake']:\n",
    "                coord = (random.randint(1, 6), random.randint(1, 6))\n",
    "                # ищем случайную свободную локацию\n",
    "                intersect = True\n",
    "                while intersect:\n",
    "                    intersect = False\n",
    "                    for obj in self.objects:\n",
    "                        if coord == obj[1]:\n",
    "                            intersect = True\n",
    "                            coord = (random.randint(1, 6), random.randint(1, 6))\n",
    "\n",
    "                self.objects.append((obj_name, coord))\n",
    "\n",
    "            return self.objects\n"
   ]
  },
  {
   "cell_type": "code",
   "execution_count": 19,
   "metadata": {},
   "outputs": [],
   "source": [
    "class HardLevel(AbstractLevel):      \n",
    "    class Map:\n",
    "        def __init__(self):\n",
    "            self._map = [[0 for j in range(10)] for i in range(10)]\n",
    "            for i in range(10):\n",
    "                for j in range(10):\n",
    "                    if i == 0 or j == 0 or i == 9 or j == 9:\n",
    "                        # граница карты\n",
    "                        self._map[j][i] = -1\n",
    "                    else:\n",
    "                        # характеристика области (-1 для непроходимой обл.)\n",
    "                        self._map[j][i] = random.randint(-1, 8)\n",
    "\n",
    "        def get_map(self):\n",
    "            return self._map\n",
    "\n",
    "\n",
    "    class Objects:\n",
    "        def __init__(self):\n",
    "            # размещаем переход на след. уровень\n",
    "            self.objects = [('next_lvl', (5, 5))]\n",
    "\n",
    "        def get_objects(self, map):              \n",
    "                    for obj_name in ['rat', 'snake']:\n",
    "                        coord = (random.randint(1, 8), random.randint(1, 8))\n",
    "                        intersect = True\n",
    "                        while intersect:\n",
    "                            intersect = False\n",
    "                            if map.get_map()[coord[0]][coord[1]] == -1:\n",
    "                                intersect = True\n",
    "                                coord = (random.randint(1, 8), random.randint(1, 8))\n",
    "                                continue\n",
    "                            for obj in self.objects:\n",
    "                                if coord == obj[1]:\n",
    "                                    intersect = True\n",
    "                                    coord = (random.randint(1, 8), random.randint(1, 8))\n",
    "\n",
    "                        self.objects.append((obj_name, coord))   \n",
    "                    return self.objects"
   ]
  },
  {
   "cell_type": "code",
   "execution_count": 22,
   "metadata": {},
   "outputs": [
    {
     "name": "stdout",
     "output_type": "stream",
     "text": [
      "Easy map was created\n",
      "Easy object was created\n"
     ]
    }
   ],
   "source": [
    "if __name__=='__main__':\n",
    "    def create_map(factory):\n",
    "        mp=factory.get_map()\n",
    "        mp.get_map()\n",
    "    map1=create_map(EasyLevel)\n",
    "    \n",
    "    def create_object(factory):\n",
    "        obj=factory.get_objects()\n",
    "        obj.get_objects(map1)\n",
    "    obj1=create_object(EasyLevel) \n",
    " "
   ]
  },
  {
   "cell_type": "code",
   "execution_count": null,
   "metadata": {},
   "outputs": [],
   "source": [
    " "
   ]
  },
  {
   "cell_type": "code",
   "execution_count": null,
   "metadata": {},
   "outputs": [],
   "source": []
  }
 ],
 "metadata": {
  "kernelspec": {
   "display_name": "Python 3",
   "language": "python",
   "name": "python3"
  },
  "language_info": {
   "codemirror_mode": {
    "name": "ipython",
    "version": 3
   },
   "file_extension": ".py",
   "mimetype": "text/x-python",
   "name": "python",
   "nbconvert_exporter": "python",
   "pygments_lexer": "ipython3",
   "version": "3.7.3"
  }
 },
 "nbformat": 4,
 "nbformat_minor": 2
}
