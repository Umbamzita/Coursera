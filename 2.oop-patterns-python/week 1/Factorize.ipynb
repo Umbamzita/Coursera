{
 "cells": [
  {
   "cell_type": "code",
   "execution_count": null,
   "metadata": {},
   "outputs": [],
   "source": [
    "import unittest"
   ]
  },
  {
   "cell_type": "code",
   "execution_count": null,
   "metadata": {},
   "outputs": [],
   "source": [
    "def factorize(x):\n",
    "    \"\"\" Factorize positive integer and return its factors.\n",
    "        :type x: int,>=0\n",
    "        :rtype: tuple[N],N>0\n",
    "    \"\"\"\n",
    "    pass"
   ]
  },
  {
   "cell_type": "code",
   "execution_count": null,
   "metadata": {},
   "outputs": [],
   "source": [
    "class TestFactorize(unittest.TestCase):\n",
    "    def test_wrong_types_raise_exception(self):\n",
    "        for x in ('string', 1.5):\n",
    "            with self.subTest(x=x):\n",
    "                self.assertRaises(TypeError, factorize, x)\n",
    "    \n",
    "    def test_negative(self):\n",
    "        for x in (-1, -10, -100):\n",
    "            with self.subTest(x=x):\n",
    "                self.assertRaises(ValueError, factorize, x)\n",
    "    \n",
    "    def test_zero_and_one_cases(self):\n",
    "        for x in (0,1):\n",
    "            with self.subTest(x=x):\n",
    "                self.assertEqual(factorize(x), (x,))\n",
    "    \n",
    "    def test_simple_numbers(self):\n",
    "        for x in (3, 13, 29):\n",
    "            with self.subTest(x=x):\n",
    "                self.assertEqual(factorize(x), (x,))\n",
    "    \n",
    "    def test_two_simple_multipliers(self):\n",
    "        for x,y  in ((6,(2,3)), (26,(2,13)), (121,(11,11))):\n",
    "            with self.subTest(x=x):\n",
    "                self.assertEqual(factorize(x), y)\n",
    "    \n",
    "    def test_many_multipliers(self):\n",
    "        for x,y  in ((1001,(7, 11, 13)), (9699690,(2, 3, 5, 7, 11, 13, 17, 19))):\n",
    "            with self.subTest(x=x):\n",
    "                self.assertEqual(factorize(x), y)"
   ]
  },
  {
   "cell_type": "code",
   "execution_count": null,
   "metadata": {},
   "outputs": [],
   "source": [
    "if __name__==\"__main__\":\n",
    "    unittest.main(argv=['first-arg-is-ignored'], exit=False)"
   ]
  },
  {
   "cell_type": "code",
   "execution_count": null,
   "metadata": {},
   "outputs": [],
   "source": []
  }
 ],
 "metadata": {
  "kernelspec": {
   "display_name": "Python 3",
   "language": "python",
   "name": "python3"
  },
  "language_info": {
   "codemirror_mode": {
    "name": "ipython",
    "version": 3
   },
   "file_extension": ".py",
   "mimetype": "text/x-python",
   "name": "python",
   "nbconvert_exporter": "python",
   "pygments_lexer": "ipython3",
   "version": "3.7.3"
  }
 },
 "nbformat": 4,
 "nbformat_minor": 2
}
